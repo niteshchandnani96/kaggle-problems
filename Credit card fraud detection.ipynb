{
 "cells": [
  {
   "cell_type": "markdown",
   "metadata": {},
   "source": [
    "### Import libraries"
   ]
  },
  {
   "cell_type": "code",
   "execution_count": 221,
   "metadata": {},
   "outputs": [],
   "source": [
    "import numpy as np\n",
    "import pandas as pd\n",
    "import matplotlib.pyplot as plt\n",
    "from sklearn.model_selection import train_test_split\n",
    "from imblearn.over_sampling import SMOTE\n",
    "from sklearn.preprocessing import MinMaxScaler\n",
    "from sklearn.ensemble import RandomForestClassifier\n",
    "from sklearn.metrics import precision_recall_curve,auc,roc_curve,confusion_matrix,classification_report,precision_score,recall_score,f1_score,accuracy_score\n",
    "pd.set_option('display.float_format', lambda x: '%.3f' % x)"
   ]
  },
  {
   "cell_type": "markdown",
   "metadata": {},
   "source": [
    "### Read data"
   ]
  },
  {
   "cell_type": "code",
   "execution_count": 2,
   "metadata": {},
   "outputs": [],
   "source": [
    "cc_data = pd.read_csv('/Users/nitesh.chandnani/Desktop/Miscellaneous/Datasets/creditcard.csv')"
   ]
  },
  {
   "cell_type": "markdown",
   "metadata": {},
   "source": [
    "### Check class distribution"
   ]
  },
  {
   "cell_type": "code",
   "execution_count": 50,
   "metadata": {},
   "outputs": [
    {
     "data": {
      "text/plain": [
       "Class\n",
       "0    284315\n",
       "1       492\n",
       "Name: Time, dtype: int64"
      ]
     },
     "execution_count": 50,
     "metadata": {},
     "output_type": "execute_result"
    }
   ],
   "source": [
    "cc_data.groupby('Class').Time.count()"
   ]
  },
  {
   "cell_type": "markdown",
   "metadata": {},
   "source": [
    "### Split into train & test set"
   ]
  },
  {
   "cell_type": "code",
   "execution_count": 119,
   "metadata": {},
   "outputs": [],
   "source": [
    "ip = cc_data.loc[:,'Time':'Amount']\n",
    "op = cc_data.loc[:,'Class']\n",
    "x_train,x_test,y_train,y_test = train_test_split(ip,op,test_size=0.2,random_state=1)"
   ]
  },
  {
   "cell_type": "markdown",
   "metadata": {},
   "source": [
    "### Oversample the data to have balanced class distribution"
   ]
  },
  {
   "cell_type": "code",
   "execution_count": 228,
   "metadata": {},
   "outputs": [],
   "source": [
    "sm = SMOTE(random_state=1,ratio=1.0)\n",
    "x_train_os,y_train_os = sm.fit_sample(x_train,y_train)"
   ]
  },
  {
   "cell_type": "markdown",
   "metadata": {},
   "source": [
    "### Training RF on original data"
   ]
  },
  {
   "cell_type": "code",
   "execution_count": 231,
   "metadata": {},
   "outputs": [
    {
     "name": "stdout",
     "output_type": "stream",
     "text": [
      "Accuracy score :  0.9995611109160493\n"
     ]
    }
   ],
   "source": [
    "clf_o = RandomForestClassifier(max_depth = 30, n_estimators = 100, random_state=1)\n",
    "clf_o.fit(x_train,y_train)\n",
    "print 'Accuracy score : ',clf_o.score(x_test,y_test)"
   ]
  },
  {
   "cell_type": "code",
   "execution_count": 232,
   "metadata": {},
   "outputs": [
    {
     "name": "stdout",
     "output_type": "stream",
     "text": [
      "AUC ROC score :  0.9404668435013263\n",
      "AUC PR score :  0.796455400846677\n",
      "\n",
      "Threshold =  0.1\n",
      "Accuracy :  0.9991397773954567\n",
      "Precision :  0.69\n",
      "Recall :  0.7931034482758621\n",
      "F1 score :  0.7379679144385026\n",
      "Confusion Matrix :\n",
      "[[56844    31]\n",
      " [   18    69]]\n",
      "\n",
      "Threshold =  0.2\n",
      "Accuracy :  0.9993328885923949\n",
      "Precision :  0.7816091954022989\n",
      "Recall :  0.7816091954022989\n",
      "F1 score :  0.781609195402299\n",
      "Confusion Matrix :\n",
      "[[56856    19]\n",
      " [   19    68]]\n",
      "\n",
      "Threshold =  0.3\n",
      "Accuracy :  0.9994382219725431\n",
      "Precision :  0.8395061728395061\n",
      "Recall :  0.7816091954022989\n",
      "F1 score :  0.8095238095238094\n",
      "Confusion Matrix :\n",
      "[[56862    13]\n",
      " [   19    68]]\n",
      "\n",
      "Threshold =  0.4\n",
      "Accuracy :  0.9995611109160493\n",
      "Precision :  0.9305555555555556\n",
      "Recall :  0.7701149425287356\n",
      "F1 score :  0.8427672955974842\n",
      "Confusion Matrix :\n",
      "[[56870     5]\n",
      " [   20    67]]\n",
      "\n",
      "Threshold =  0.5\n",
      "Accuracy :  0.9995611109160493\n",
      "Precision :  0.9305555555555556\n",
      "Recall :  0.7701149425287356\n",
      "F1 score :  0.8427672955974842\n",
      "Confusion Matrix :\n",
      "[[56870     5]\n",
      " [   20    67]]\n",
      "\n",
      "Threshold =  0.6\n",
      "Accuracy :  0.9995084442259752\n",
      "Precision :  0.9402985074626866\n",
      "Recall :  0.7241379310344828\n",
      "F1 score :  0.8181818181818181\n",
      "Confusion Matrix :\n",
      "[[56871     4]\n",
      " [   24    63]]\n",
      "\n",
      "Threshold =  0.7\n",
      "Accuracy :  0.9994382219725431\n",
      "Precision :  0.9508196721311475\n",
      "Recall :  0.6666666666666666\n",
      "F1 score :  0.7837837837837837\n",
      "Confusion Matrix :\n",
      "[[56872     3]\n",
      " [   29    58]]\n",
      "\n",
      "Threshold =  0.8\n",
      "Accuracy :  0.999403110845827\n",
      "Precision :  0.9649122807017544\n",
      "Recall :  0.632183908045977\n",
      "F1 score :  0.763888888888889\n",
      "Confusion Matrix :\n",
      "[[56873     2]\n",
      " [   32    55]]\n",
      "\n",
      "Threshold =  0.9\n",
      "Accuracy :  0.9991748885221726\n",
      "Precision :  0.9761904761904762\n",
      "Recall :  0.47126436781609193\n",
      "F1 score :  0.6356589147286821\n",
      "Confusion Matrix :\n",
      "[[56874     1]\n",
      " [   46    41]]\n",
      "\n",
      "Threshold =  1.0\n",
      "Accuracy :  0.9984726659878516\n",
      "Precision :  0.0\n",
      "Recall :  0.0\n",
      "F1 score :  0.0\n",
      "Confusion Matrix :\n",
      "[[56875     0]\n",
      " [   87     0]]\n"
     ]
    }
   ],
   "source": [
    "fpr,tpr,thresholds = roc_curve(y_test,clf_o.predict_proba(x_test)[:,1])\n",
    "auc_roc_score_o = auc(fpr,tpr)\n",
    "precision,recall,thresholds = precision_recall_curve(y_test,clf_o.predict_proba(x_test)[:,1])\n",
    "auc_pr_score_o = auc(recall,precision)\n",
    "print 'AUC ROC score : ',auc_roc_score_o\n",
    "print 'AUC PR score : ',auc_pr_score_o\n",
    "\n",
    "for i in range(1,11,1):\n",
    "    print '\\nThreshold = ',float(i)/10\n",
    "    accuracy_sc_o = accuracy_score(y_test,clf_o.predict_proba(x_test)[:,1]>float(i)/10)\n",
    "    precision_sc_o = precision_score(y_test,clf_o.predict_proba(x_test)[:,1]>float(i)/10)\n",
    "    recall_sc_o = recall_score(y_test,clf_o.predict_proba(x_test)[:,1]>float(i)/10)\n",
    "    confusion_sc_o = confusion_matrix(y_test,clf_o.predict_proba(x_test)[:,1]>float(i)/10)\n",
    "    f1_sc_o = f1_score(y_test,clf_o.predict_proba(x_test)[:,1]>float(i)/10)\n",
    "    print 'Accuracy : ',accuracy_sc_o\n",
    "    print 'Precision : ',precision_sc_o\n",
    "    print 'Recall : ',recall_sc_o\n",
    "    print 'F1 score : ',f1_sc_o\n",
    "    print 'Confusion Matrix :\\n',confusion_sc_o"
   ]
  },
  {
   "cell_type": "markdown",
   "metadata": {},
   "source": [
    "### Training RF on oversampled data"
   ]
  },
  {
   "cell_type": "code",
   "execution_count": 233,
   "metadata": {},
   "outputs": [
    {
     "name": "stdout",
     "output_type": "stream",
     "text": [
      "Accuracy score :  0.9995084442259752\n"
     ]
    }
   ],
   "source": [
    "clf_os = RandomForestClassifier(max_depth = 40, n_estimators = 1000, random_state=1)\n",
    "clf_os.fit(x_train_os,y_train_os)\n",
    "print 'Accuracy score : ',clf_os.score(x_test,y_test)"
   ]
  },
  {
   "cell_type": "code",
   "execution_count": 235,
   "metadata": {},
   "outputs": [
    {
     "name": "stdout",
     "output_type": "stream",
     "text": [
      "AUC ROC score :  0.9783766578249337\n",
      "AUC PR score :  0.8051225626498856\n",
      "\n",
      "Threshold =  0.1\n",
      "Accuracy :  0.9970857764825674\n",
      "Precision :  0.32599118942731276\n",
      "Recall :  0.8505747126436781\n",
      "F1 score :  0.4713375796178344\n",
      "Confusion Matrix :\n",
      "[[56722   153]\n",
      " [   13    74]]\n",
      "\n",
      "Threshold =  0.2\n",
      "Accuracy :  0.9989817773252344\n",
      "Precision :  0.6283185840707964\n",
      "Recall :  0.8160919540229885\n",
      "F1 score :  0.71\n",
      "Confusion Matrix :\n",
      "[[56833    42]\n",
      " [   16    71]]\n",
      "\n",
      "Threshold =  0.3\n",
      "Accuracy :  0.9992626663389628\n",
      "Precision :  0.7368421052631579\n",
      "Recall :  0.8045977011494253\n",
      "F1 score :  0.7692307692307692\n",
      "Confusion Matrix :\n",
      "[[56850    25]\n",
      " [   17    70]]\n",
      "\n",
      "Threshold =  0.4\n",
      "Accuracy :  0.9994382219725431\n",
      "Precision :  0.8313253012048193\n",
      "Recall :  0.7931034482758621\n",
      "F1 score :  0.8117647058823529\n",
      "Confusion Matrix :\n",
      "[[56861    14]\n",
      " [   18    69]]\n",
      "\n",
      "Threshold =  0.5\n",
      "Accuracy :  0.9995084442259752\n",
      "Precision :  0.8734177215189873\n",
      "Recall :  0.7931034482758621\n",
      "F1 score :  0.8313253012048193\n",
      "Confusion Matrix :\n",
      "[[56865    10]\n",
      " [   18    69]]\n",
      "\n",
      "Threshold =  0.6\n",
      "Accuracy :  0.9995259997893332\n",
      "Precision :  0.8846153846153846\n",
      "Recall :  0.7931034482758621\n",
      "F1 score :  0.8363636363636363\n",
      "Confusion Matrix :\n",
      "[[56866     9]\n",
      " [   18    69]]\n",
      "\n",
      "Threshold =  0.7\n",
      "Accuracy :  0.9995435553526912\n",
      "Precision :  0.9066666666666666\n",
      "Recall :  0.7816091954022989\n",
      "F1 score :  0.8395061728395062\n",
      "Confusion Matrix :\n",
      "[[56868     7]\n",
      " [   19    68]]\n",
      "\n",
      "Threshold =  0.8\n",
      "Accuracy :  0.9995259997893332\n",
      "Precision :  0.9166666666666666\n",
      "Recall :  0.7586206896551724\n",
      "F1 score :  0.830188679245283\n",
      "Confusion Matrix :\n",
      "[[56869     6]\n",
      " [   21    66]]\n",
      "\n",
      "Threshold =  0.9\n",
      "Accuracy :  0.9995084442259752\n",
      "Precision :  0.9538461538461539\n",
      "Recall :  0.7126436781609196\n",
      "F1 score :  0.8157894736842106\n",
      "Confusion Matrix :\n",
      "[[56872     3]\n",
      " [   25    62]]\n",
      "\n",
      "Threshold =  1.0\n",
      "Accuracy :  0.9984726659878516\n",
      "Precision :  0.0\n",
      "Recall :  0.0\n",
      "F1 score :  0.0\n",
      "Confusion Matrix :\n",
      "[[56875     0]\n",
      " [   87     0]]\n"
     ]
    }
   ],
   "source": [
    "fpr,tpr,thresholds = roc_curve(y_test,clf_os.predict_proba(x_test)[:,1])\n",
    "auc_roc_score_os = auc(fpr,tpr)\n",
    "precision,recall,thresholds = precision_recall_curve(y_test,clf_os.predict_proba(x_test)[:,1])\n",
    "auc_pr_score_os = auc(recall,precision)\n",
    "print 'AUC ROC score : ',auc_roc_score_os\n",
    "print 'AUC PR score : ',auc_pr_score_os\n",
    "\n",
    "for i in range(1,11,1):\n",
    "    print '\\nThreshold = ',float(i)/10\n",
    "    accuracy_sc_os = accuracy_score(y_test,clf_os.predict_proba(x_test)[:,1]>float(i)/10)\n",
    "    precision_sc_os = precision_score(y_test,clf_os.predict_proba(x_test)[:,1]>float(i)/10)\n",
    "    recall_sc_os = recall_score(y_test,clf_os.predict_proba(x_test)[:,1]>float(i)/10)\n",
    "    confusion_sc_os = confusion_matrix(y_test,clf_os.predict_proba(x_test)[:,1]>float(i)/10)\n",
    "    f1_sc_os = f1_score(y_test,clf_os.predict_proba(x_test)[:,1]>float(i)/10)\n",
    "    print 'Accuracy : ',accuracy_sc_os\n",
    "    print 'Precision : ',precision_sc_os\n",
    "    print 'Recall : ',recall_sc_os\n",
    "    print 'F1 score : ',f1_sc_os\n",
    "    print 'Confusion Matrix :\\n',confusion_sc_os"
   ]
  },
  {
   "cell_type": "markdown",
   "metadata": {},
   "source": [
    "#### Feature importance with RF"
   ]
  },
  {
   "cell_type": "code",
   "execution_count": 134,
   "metadata": {},
   "outputs": [
    {
     "name": "stdout",
     "output_type": "stream",
     "text": [
      "Feature ranking:\n",
      "1. feature 14 (0.229998)\n",
      "2. feature 10 (0.112853)\n",
      "3. feature 4 (0.109986)\n",
      "4. feature 17 (0.108779)\n",
      "5. feature 12 (0.089965)\n",
      "6. feature 11 (0.081277)\n",
      "7. feature 16 (0.059308)\n",
      "8. feature 3 (0.042708)\n",
      "9. feature 2 (0.023811)\n",
      "10. feature 7 (0.023686)\n",
      "11. feature 1 (0.015210)\n",
      "12. feature 9 (0.014900)\n",
      "13. feature 21 (0.009380)\n",
      "14. feature 18 (0.009169)\n",
      "15. feature 6 (0.008434)\n",
      "16. feature 0 (0.007552)\n",
      "17. feature 28 (0.005454)\n",
      "18. feature 8 (0.005387)\n",
      "19. feature 13 (0.004272)\n",
      "20. feature 29 (0.004222)\n",
      "21. feature 20 (0.004059)\n",
      "22. feature 19 (0.003940)\n",
      "23. feature 26 (0.003820)\n",
      "24. feature 15 (0.003620)\n",
      "25. feature 5 (0.003437)\n",
      "26. feature 22 (0.003312)\n",
      "27. feature 24 (0.003185)\n",
      "28. feature 25 (0.002874)\n",
      "29. feature 23 (0.002701)\n",
      "30. feature 27 (0.002701)\n"
     ]
    },
    {
     "data": {
      "image/png": "[encoded data removed]",
      "text/plain": [
       "<Figure size 432x288 with 1 Axes>"
      ]
     },
     "metadata": {
      "needs_background": "light"
     },
     "output_type": "display_data"
    }
   ],
   "source": [
    "imp = clf_os.feature_importances_\n",
    "std = np.std([tree.feature_importances_ for tree in clf_os.estimators_],\n",
    "             axis=0)\n",
    "indices = np.argsort(imp)[::-1]\n",
    "\n",
    "# Print the feature ranking\n",
    "print(\"Feature ranking:\")\n",
    "for f in range(x_train_os.shape[1]):\n",
    "    print(\"%d. feature %d (%f)\" % (f + 1, indices[f], imp[indices[f]]))\n",
    "    \n",
    "# Plot the feature importances of the forest\n",
    "plt.figure()\n",
    "plt.title(\"Feature importances\")\n",
    "plt.bar(range(x_train_os.shape[1]), imp[indices],\n",
    "       color=\"r\", yerr=std[indices], align=\"center\")\n",
    "plt.xlim([-1, x_train_os.shape[1]])\n",
    "plt.show()"
   ]
  },
  {
   "cell_type": "markdown",
   "metadata": {},
   "source": [
    "### Training RF with lesser class 0 data"
   ]
  },
  {
   "cell_type": "code",
   "execution_count": 227,
   "metadata": {},
   "outputs": [],
   "source": [
    "cc_data_ss_0 = cc_data[cc_data.Class == 0].sample(10000,random_state=1)   #randomly select data with non fraud transaction\n",
    "cc_data_ss_1 = cc_data[cc_data.Class == 1]\n",
    "\n",
    "cc_data_ss = pd.DataFrame()\n",
    "cc_data_ss = cc_data_ss.append(cc_data_ss_0)\n",
    "cc_data_ss = cc_data_ss.append(cc_data_ss_1)"
   ]
  },
  {
   "cell_type": "code",
   "execution_count": 191,
   "metadata": {},
   "outputs": [],
   "source": [
    "ip_ss = cc_data_ss.loc[:,'Time':'Amount']\n",
    "op_ss = cc_data_ss.loc[:,'Class']\n",
    "x_train_ss,x_test_ss,y_train_ss,y_test_ss = train_test_split(ip_ss,op_ss,test_size=0.2,random_state=1)"
   ]
  },
  {
   "cell_type": "markdown",
   "metadata": {},
   "source": [
    "#### With oversampling data"
   ]
  },
  {
   "cell_type": "code",
   "execution_count": 192,
   "metadata": {},
   "outputs": [],
   "source": [
    "sm = SMOTE(random_state=1,ratio=1.0)\n",
    "x_train_os_ss,y_train_os_ss = sm.fit_sample(x_train_ss,y_train_ss)"
   ]
  },
  {
   "cell_type": "code",
   "execution_count": 246,
   "metadata": {},
   "outputs": [
    {
     "name": "stdout",
     "output_type": "stream",
     "text": [
      "Accuracy score :  0.993806574559314\n"
     ]
    }
   ],
   "source": [
    "clf_os_ss = RandomForestClassifier(n_estimators = 1000,random_state=1)\n",
    "clf_os_ss.fit(x_train_os_ss,y_train_os_ss)\n",
    "print 'Accuracy score : ',clf_os_ss.score(x_test_ss,y_test_ss)"
   ]
  },
  {
   "cell_type": "code",
   "execution_count": 247,
   "metadata": {},
   "outputs": [
    {
     "name": "stdout",
     "output_type": "stream",
     "text": [
      "AUC ROC score :  0.9878668455475431\n",
      "AUC PR score :  0.9521649211097444\n",
      "\n",
      "Threshold =  0.1\n",
      "Accuracy :  0.9209147212958552\n",
      "Precision :  0.3441295546558704\n",
      "Recall :  0.9550561797752809\n",
      "F1 score :  0.5059523809523809\n",
      "Confusion Matrix :\n",
      "[[1848  162]\n",
      " [   4   85]]\n",
      "\n",
      "Threshold =  0.2\n",
      "Accuracy :  0.9795140543115769\n",
      "Precision :  0.6885245901639344\n",
      "Recall :  0.9438202247191011\n",
      "F1 score :  0.7962085308056872\n",
      "Confusion Matrix :\n",
      "[[1972   38]\n",
      " [   5   84]]\n",
      "\n",
      "Threshold =  0.3\n",
      "Accuracy :  0.9904716531681753\n",
      "Precision :  0.8556701030927835\n",
      "Recall :  0.9325842696629213\n",
      "F1 score :  0.8924731182795699\n",
      "Confusion Matrix :\n",
      "[[1996   14]\n",
      " [   6   83]]\n",
      "\n",
      "Threshold =  0.4\n",
      "Accuracy :  0.993806574559314\n",
      "Precision :  0.9318181818181818\n",
      "Recall :  0.9213483146067416\n",
      "F1 score :  0.9265536723163842\n",
      "Confusion Matrix :\n",
      "[[2004    6]\n",
      " [   7   82]]\n",
      "\n",
      "Threshold =  0.5\n",
      "Accuracy :  0.993806574559314\n",
      "Precision :  0.9634146341463414\n",
      "Recall :  0.8876404494382022\n",
      "F1 score :  0.9239766081871345\n",
      "Confusion Matrix :\n",
      "[[2007    3]\n",
      " [  10   79]]\n",
      "\n",
      "Threshold =  0.6\n",
      "Accuracy :  0.9942829919009052\n",
      "Precision :  1.0\n",
      "Recall :  0.8651685393258427\n",
      "F1 score :  0.927710843373494\n",
      "Confusion Matrix :\n",
      "[[2010    0]\n",
      " [  12   77]]\n",
      "\n",
      "Threshold =  0.7\n",
      "Accuracy :  0.9942829919009052\n",
      "Precision :  1.0\n",
      "Recall :  0.8651685393258427\n",
      "F1 score :  0.927710843373494\n",
      "Confusion Matrix :\n",
      "[[2010    0]\n",
      " [  12   77]]\n",
      "\n",
      "Threshold =  0.8\n",
      "Accuracy :  0.993806574559314\n",
      "Precision :  1.0\n",
      "Recall :  0.8539325842696629\n",
      "F1 score :  0.9212121212121213\n",
      "Confusion Matrix :\n",
      "[[2010    0]\n",
      " [  13   76]]\n",
      "\n",
      "Threshold =  0.9\n",
      "Accuracy :  0.9933301572177228\n",
      "Precision :  1.0\n",
      "Recall :  0.8426966292134831\n",
      "F1 score :  0.9146341463414633\n",
      "Confusion Matrix :\n",
      "[[2010    0]\n",
      " [  14   75]]\n",
      "\n",
      "Threshold =  1.0\n",
      "Accuracy :  0.9575988565983802\n",
      "Precision :  0.0\n",
      "Recall :  0.0\n",
      "F1 score :  0.0\n",
      "Confusion Matrix :\n",
      "[[2010    0]\n",
      " [  89    0]]\n"
     ]
    }
   ],
   "source": [
    "fpr,tpr,thresholds = roc_curve(y_test_ss,clf_os_ss.predict_proba(x_test_ss)[:,1])\n",
    "auc_roc_score_os_ss = auc(fpr,tpr)\n",
    "precision,recall,thresholds = precision_recall_curve(y_test_ss,clf_os_ss.predict_proba(x_test_ss)[:,1])\n",
    "auc_pr_score_os_ss = auc(recall,precision)\n",
    "print 'AUC ROC score : ',auc_roc_score_os_ss\n",
    "print 'AUC PR score : ',auc_pr_score_os_ss\n",
    "\n",
    "for i in range(1,11,1):\n",
    "    print '\\nThreshold = ',float(i)/10\n",
    "    accuracy_sc_os_ss = accuracy_score(y_test_ss,clf_os_ss.predict_proba(x_test_ss)[:,1]>float(i)/10)\n",
    "    precision_sc_os_ss = precision_score(y_test_ss,clf_os_ss.predict_proba(x_test_ss)[:,1]>float(i)/10)\n",
    "    recall_sc_os_ss = recall_score(y_test_ss,clf_os_ss.predict_proba(x_test_ss)[:,1]>float(i)/10)\n",
    "    confusion_sc_os_ss = confusion_matrix(y_test_ss,clf_os_ss.predict_proba(x_test_ss)[:,1]>float(i)/10)\n",
    "    f1_sc_os_ss = f1_score(y_test_ss,clf_os_ss.predict_proba(x_test_ss)[:,1]>float(i)/10)\n",
    "    print 'Accuracy : ',accuracy_sc_os_ss\n",
    "    print 'Precision : ',precision_sc_os_ss\n",
    "    print 'Recall : ',recall_sc_os_ss\n",
    "    print 'F1 score : ',f1_sc_os_ss\n",
    "    print 'Confusion Matrix :\\n',confusion_sc_os_ss"
   ]
  },
  {
   "cell_type": "markdown",
   "metadata": {},
   "source": [
    "#### Without oversampling data"
   ]
  },
  {
   "cell_type": "code",
   "execution_count": 197,
   "metadata": {},
   "outputs": [
    {
     "name": "stdout",
     "output_type": "stream",
     "text": [
      "Accuracy score :  0.9942829919009052\n"
     ]
    }
   ],
   "source": [
    "clf_ss = RandomForestClassifier(max_depth = 40, n_estimators = 1000, random_state=1)\n",
    "clf_ss.fit(x_train_ss,y_train_ss)\n",
    "print 'Accuracy score : ',clf_ss.score(x_test_ss,y_test_ss)"
   ]
  },
  {
   "cell_type": "code",
   "execution_count": 212,
   "metadata": {},
   "outputs": [
    {
     "name": "stdout",
     "output_type": "stream",
     "text": [
      "AUC ROC score :  0.9848957459891553\n",
      "AUC PR score :  0.9388204295813627\n",
      "\n",
      "Threshold =  0.1\n",
      "Precision :  0.7410714285714286\n",
      "Recall :  0.9325842696629213\n",
      "F1 score :\n",
      "0.8258706467661691\n",
      "Confusion Matrix :\n",
      "[[1981   29]\n",
      " [   6   83]]\n",
      "\n",
      "Threshold =  0.2\n",
      "Precision :  0.9294117647058824\n",
      "Recall :  0.8876404494382022\n",
      "F1 score :\n",
      "0.9080459770114941\n",
      "Confusion Matrix :\n",
      "[[2004    6]\n",
      " [  10   79]]\n",
      "\n",
      "Threshold =  0.3\n",
      "Precision :  0.9873417721518988\n",
      "Recall :  0.8764044943820225\n",
      "F1 score :\n",
      "0.9285714285714286\n",
      "Confusion Matrix :\n",
      "[[2009    1]\n",
      " [  11   78]]\n",
      "\n",
      "Threshold =  0.4\n",
      "Precision :  0.9871794871794872\n",
      "Recall :  0.8651685393258427\n",
      "F1 score :\n",
      "0.9221556886227544\n",
      "Confusion Matrix :\n",
      "[[2009    1]\n",
      " [  12   77]]\n",
      "\n",
      "Threshold =  0.5\n",
      "Precision :  1.0\n",
      "Recall :  0.8651685393258427\n",
      "F1 score :\n",
      "0.927710843373494\n",
      "Confusion Matrix :\n",
      "[[2010    0]\n",
      " [  12   77]]\n",
      "\n",
      "Threshold =  0.6\n",
      "Precision :  1.0\n",
      "Recall :  0.8651685393258427\n",
      "F1 score :\n",
      "0.927710843373494\n",
      "Confusion Matrix :\n",
      "[[2010    0]\n",
      " [  12   77]]\n",
      "\n",
      "Threshold =  0.7\n",
      "Precision :  1.0\n",
      "Recall :  0.8651685393258427\n",
      "F1 score :\n",
      "0.927710843373494\n",
      "Confusion Matrix :\n",
      "[[2010    0]\n",
      " [  12   77]]\n",
      "\n",
      "Threshold =  0.8\n",
      "Precision :  1.0\n",
      "Recall :  0.8539325842696629\n",
      "F1 score :\n",
      "0.9212121212121213\n",
      "Confusion Matrix :\n",
      "[[2010    0]\n",
      " [  13   76]]\n",
      "\n",
      "Threshold =  0.9\n",
      "Precision :  1.0\n",
      "Recall :  0.7415730337078652\n",
      "F1 score :\n",
      "0.8516129032258065\n",
      "Confusion Matrix :\n",
      "[[2010    0]\n",
      " [  23   66]]\n",
      "\n",
      "Threshold =  1.0\n",
      "Precision :  0.0\n",
      "Recall :  0.0\n",
      "F1 score :\n",
      "0.0\n",
      "Confusion Matrix :\n",
      "[[2010    0]\n",
      " [  89    0]]\n"
     ]
    }
   ],
   "source": [
    "fpr,tpr,thresholds = roc_curve(y_test_ss,clf_ss.predict_proba(x_test_ss)[:,1])\n",
    "auc_roc_score_ss = auc(fpr,tpr)\n",
    "precision,recall,thresholds = precision_recall_curve(y_test_ss,clf_ss.predict_proba(x_test_ss)[:,1])\n",
    "auc_pr_score_ss = auc(recall,precision)\n",
    "print 'AUC ROC score : ',auc_roc_score_ss\n",
    "print 'AUC PR score : ',auc_pr_score_ss\n",
    "\n",
    "for i in range(1,11,1):\n",
    "    print '\\nThreshold = ',float(i)/10\n",
    "    precision_sc_ss = precision_score(y_test_ss,clf_ss.predict_proba(x_test_ss)[:,1]>float(i)/10)\n",
    "    recall_sc_ss = recall_score(y_test_ss,clf_ss.predict_proba(x_test_ss)[:,1]>float(i)/10)\n",
    "    confusion_sc_ss = confusion_matrix(y_test_ss,clf_ss.predict_proba(x_test_ss)[:,1]>float(i)/10)\n",
    "    f1_sc_ss = f1_score(y_test_ss,clf_ss.predict_proba(x_test_ss)[:,1]>float(i)/10)\n",
    "    print 'Precision : ',precision_sc_ss\n",
    "    print 'Recall : ',recall_sc_ss\n",
    "    print 'F1 score :\\n',f1_sc_ss\n",
    "    print 'Confusion Matrix :\\n',confusion_sc_ss"
   ]
  },
  {
   "cell_type": "code",
   "execution_count": null,
   "metadata": {},
   "outputs": [],
   "source": []
  }
 ],
 "metadata": {
  "kernelspec": {
   "display_name": "Python 2",
   "language": "python",
   "name": "python2"
  },
  "language_info": {
   "codemirror_mode": {
    "name": "ipython",
    "version": 2
   },
   "file_extension": ".py",
   "mimetype": "text/x-python",
   "name": "python",
   "nbconvert_exporter": "python",
   "pygments_lexer": "ipython2",
   "version": "2.7.15"
  }
 },
 "nbformat": 4,
 "nbformat_minor": 2
}
